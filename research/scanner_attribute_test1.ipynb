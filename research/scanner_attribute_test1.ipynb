{
 "cells": [
  {
   "cell_type": "code",
   "execution_count": 1,
   "metadata": {},
   "outputs": [
    {
     "name": "stderr",
     "output_type": "stream",
     "text": [
      "C:\\Users\\rasbby\\Anaconda3\\envs\\DjangoRestProject\\lib\\site-packages\\sklearn\\ensemble\\weight_boosting.py:29: DeprecationWarning: numpy.core.umath_tests is an internal NumPy module and should not be imported. It will be removed in a future NumPy release.\n",
      "  from numpy.core.umath_tests import inner1d\n"
     ]
    }
   ],
   "source": [
    "import json # will be needed for saving preprocessing details\n",
    "import numpy as np # for data manipulation\n",
    "import pandas as pd # for data manipulation\n",
    "from sklearn.model_selection import train_test_split # will be used for data split\n",
    "from sklearn.preprocessing import LabelEncoder # for preprocessing\n",
    "from sklearn.ensemble import RandomForestClassifier # for training the algorithm\n",
    "from sklearn.ensemble import ExtraTreesClassifier # for training the algorithm\n",
    "import joblib # for saving algorithm and preprocessing objects"
   ]
  },
  {
   "cell_type": "code",
   "execution_count": 2,
   "metadata": {},
   "outputs": [],
   "source": [
    "# load dataset\n",
    "df = pd.read_csv('final_dataset.csv', skipinitialspace=True)\n",
    "x_cols = [c for c in df.columns if c != 'Found / Not Found']\n",
    "# set input matrix and target column\n",
    "X = df[x_cols]\n",
    "y = df['Found / Not Found']"
   ]
  },
  {
   "cell_type": "code",
   "execution_count": 3,
   "metadata": {},
   "outputs": [],
   "source": [
    "# data split train / test\n",
    "X_train, X_test, y_train, y_test = train_test_split(X, y, test_size = 0.3, random_state=1234)"
   ]
  },
  {
   "cell_type": "code",
   "execution_count": 4,
   "metadata": {},
   "outputs": [
    {
     "name": "stdout",
     "output_type": "stream",
     "text": [
      "{'No. of Digite': 54.0, 'number of space': 0.0, 'Number(fromcharcode,charcodeAt,charAt)': 0.0, 'Long string': 0.0, 'longest string length': 0.0, 'hexa value': 0.0, 'eval()': 0.0, 'concat()': 0.0, 'iframe': 0.0, 'unescap()': 0.0, 'escape()': 0.0, 'search()': 0.0, 'setAttribute()': 0.0, 'toStiring()': 0.0, 'parseInt()': 0.0, 'setTimeout()': 0.0, 'ActiveXObject()': 0.0, 'split()': 0.0, 'substring()': 0.0, 'replace()': 0.0, 'decode()': 0.0, 'Math.random()': 0.0, 'console.log()': 0.0, 'document.addEventListener()': 0.0, 'window.location()': 0.0, 'attachEvent()': 0.0, 'createElement()': 0.0, 'getElementById()': 0.0, 'getCookie': 0.0, 'document.write()': 0.0, 'onerror()': 0.0, 'onunload()': 0.0, 'onload()': 0.0, 'dispatchEvent': 0.0, '.js': 0.0, '.php': 0.0, 'var': 0.0, 'function': 0.0, 'var _': 0.0, 'encodeURIComponent': 0.0, 'decodeURIComponent': 0.0, '/': 4.0, '|': 0.0, '%': 0.0, 'no of( \\\\)': 0.0, 'no of =': 8.0, ';': 18.0, '#': 0.0, 'no of +': 0.0, '.': 1.0, \"no of '\": 0.0}\n"
     ]
    }
   ],
   "source": [
    "# fill missing values\n",
    "train_mode = dict(X_train.mode().iloc[0])\n",
    "X_train = X_train.fillna(train_mode)\n",
    "print(train_mode)"
   ]
  },
  {
   "cell_type": "code",
   "execution_count": 5,
   "metadata": {},
   "outputs": [
    {
     "name": "stdout",
     "output_type": "stream",
     "text": [
      "[0 0 0 1 0 1 0 1 1 0 0 1 1 0 1 0 0 1 0 0 0 1 0 0 0 0 0 0 0 0 0 1 1 1 1 0 0\n",
      " 1 1 0 0 0 1 0 0 0 0 1 1 0 1 0 0 1 0 0 1 0 0 1 1 1 0 0 0 0 0 1 0 0 0 0 0 0\n",
      " 1]\n"
     ]
    }
   ],
   "source": [
    "#Import Random Forest Model\n",
    "from sklearn.ensemble import RandomForestClassifier\n",
    "\n",
    "#Create a Gaussian Classifier\n",
    "clf=RandomForestClassifier(n_estimators=100)\n",
    "\n",
    "#Train the model using the training sets y_pred=clf.predict(X_test)\n",
    "clf.fit(X_train,y_train)\n",
    "# save preprocessing objects and RF algorithm\n",
    "joblib.dump(train_mode, \"./train_mode.joblib\", compress=True)\n",
    "joblib.dump(clf, \"./random_forest.joblib\", compress=True)\n",
    "y_pred=clf.predict(X_test)\n",
    "print(y_pred)"
   ]
  },
  {
   "cell_type": "code",
   "execution_count": 6,
   "metadata": {},
   "outputs": [
    {
     "name": "stdout",
     "output_type": "stream",
     "text": [
      "Training set metrics:\n",
      "Accuracy: 1.0\n",
      "Precision: 1.0\n",
      "Recall: 1.0\n",
      "Test set metrics:\n",
      "Accuracy: 0.9466666666666667\n",
      "Precision: 0.9615384615384616\n",
      "Recall: 0.8928571428571429\n"
     ]
    }
   ],
   "source": [
    "#Import scikit-learn metrics module for accuracy calculation\n",
    "from sklearn import metrics\n",
    "# Model Accuracy, how often is the classifier correct?\n",
    "#print(\"Accuracy:\",metrics.accuracy_score(y_test, y_pred))\n",
    "print('Training set metrics:')\n",
    "print('Accuracy:', metrics.accuracy_score(y_train, clf.predict(X_train)))\n",
    "print('Precision:', metrics.precision_score(y_train, clf.predict(X_train)))\n",
    "print('Recall:', metrics.recall_score(y_train, clf.predict(X_train)))\n",
    "recall_score_train=metrics.recall_score(y_train, clf.predict(X_train))\n",
    "print('Test set metrics:')\n",
    "print('Accuracy:', metrics.accuracy_score(y_test, clf.predict(X_test)))\n",
    "print('Precision:', metrics.precision_score(y_test, clf.predict(X_test)))\n",
    "print('Recall:', metrics.recall_score(y_test, clf.predict(X_test)))\n",
    "recall_score_test=metrics.recall_score(y_test, clf.predict(X_test))"
   ]
  },
  {
   "cell_type": "code",
   "execution_count": 7,
   "metadata": {},
   "outputs": [
    {
     "name": "stdout",
     "output_type": "stream",
     "text": [
      "avarage accuracy 0.9333333333333333\n",
      "avarage precision 0.9599743589743589\n",
      "avarage recall 0.8571428571428571\n"
     ]
    }
   ],
   "source": [
    "avg_accu_score=(0.9333333333333333+0.9333333333333333+0.92+0.9466666666666667+0.9333333333333333)/5\n",
    "avg_prec_score=(0.96+0.96+0.9583333333333334+0.9615384615384616+0.96)/5\n",
    "avg_rec_score=(0.8571428571428571+0.8571428571428571\n",
    "+0.8214285714285714+0.8928571428571429+0.8571428571428571)/5\n",
    "\n",
    "print('avarage accuracy',avg_accu_score)\n",
    "print('avarage precision',avg_prec_score)\n",
    "print('avarage recall',avg_rec_score)"
   ]
  },
  {
   "cell_type": "code",
   "execution_count": 8,
   "metadata": {},
   "outputs": [
    {
     "name": "stdout",
     "output_type": "stream",
     "text": [
      "51\n"
     ]
    }
   ],
   "source": [
    "l=[0,0,0,0,0,0,0,0,0,0,1,0,0,0,0,0,0,0,0,0,0,0,0,0,0,0,0,0,0,0,0,30,0,0,0,0,5217,32,5,32,133,0,0,117,0,0,61,0,33,250,0]\n",
    "print(len(l))\n",
    "#clf.predict([l])"
   ]
  },
  {
   "cell_type": "code",
   "execution_count": 9,
   "metadata": {},
   "outputs": [
    {
     "name": "stdout",
     "output_type": "stream",
     "text": [
      "[0.0144775  0.0555293  0.02062959 0.00729267 0.02394228 0.00526574\n",
      " 0.05205521 0.00912677 0.02459949 0.01189677 0.00503654 0.00569431\n",
      " 0.01144898 0.00612307 0.01388651 0.00819914 0.0160987  0.00308199\n",
      " 0.00737871 0.00928322 0.00153043 0.01456109 0.00428739 0.00493608\n",
      " 0.00936605 0.00394332 0.01126648 0.00542433 0.00922087 0.01626429\n",
      " 0.00082814 0.         0.00721615 0.00189858 0.01721439 0.0090603\n",
      " 0.02454422 0.03071784 0.02179987 0.01305203 0.00352241 0.08254043\n",
      " 0.1447303  0.00554512 0.02902303 0.04267983 0.00894626 0.02636018\n",
      " 0.0157376  0.10644409 0.01629238]\n"
     ]
    },
    {
     "data": {
      "text/plain": [
       "<matplotlib.figure.Figure at 0x170655784e0>"
      ]
     },
     "metadata": {},
     "output_type": "display_data"
    }
   ],
   "source": [
    "data = pd.read_csv(\"final_dataset.csv\")\n",
    "X = data.iloc[:,0:51]  #independent columns\n",
    "y = data.iloc[:,-1]    #target column i.e price range\n",
    "from sklearn.ensemble import ExtraTreesClassifier\n",
    "import matplotlib.pyplot as plt\n",
    "model = ExtraTreesClassifier()\n",
    "model.fit(X,y)\n",
    "print(model.feature_importances_) #use inbuilt class feature_importances of tree based classifiers\n",
    "#plot graph of feature importances for better visualization\n",
    "feat_importances = pd.Series(model.feature_importances_, index=X.columns)\n",
    "feat_importances.nlargest(51).plot(kind='barh')\n",
    "F = plt.gcf()\n",
    "Size = F.get_size_inches()\n",
    "F.set_size_inches(Size[0]*2, Size[1]*2, forward=True)\n",
    "plt.show()\n",
    "# fig = plt.gcf()\n",
    "# fig.set_size_inches(5.5, 5.5)\n",
    "# fig.savefig('dataset3png.png', dpi=50)"
   ]
  },
  {
   "cell_type": "code",
   "execution_count": 10,
   "metadata": {},
   "outputs": [
    {
     "data": {
      "image/png": "[encoded data removed]",
      "text/plain": [
       "<matplotlib.figure.Figure at 0x17064c9afd0>"
      ]
     },
     "metadata": {
      "needs_background": "light"
     },
     "output_type": "display_data"
    }
   ],
   "source": [
    "import matplotlib.pyplot as plt\n",
    "import seaborn as sns\n",
    "#%matplotlib inline\n",
    "# Creating a bar plot\n",
    "sns.barplot(x=feat_importances, y=feat_importances.index)\n",
    "# Add labels to your graph\n",
    "plt.xlabel('Feature Importance Score')\n",
    "plt.ylabel('Features')\n",
    "plt.title(\"Visualizing Important Features\")\n",
    "# plt.legend()\n",
    "F = plt.gcf()\n",
    "Size = F.get_size_inches()\n",
    "F.set_size_inches(Size[0]*2, Size[1]*2, forward=True)\n",
    "plt.show()\n",
    "# fig = plt.gcf()\n",
    "# fig.set_size_inches(10.5, 10.5)\n",
    "# fig.savefig('test3png.png', dpi=100)\n",
    "#plt.savefig('viz.png',dpi=200)"
   ]
  },
  {
   "cell_type": "code",
   "execution_count": 11,
   "metadata": {},
   "outputs": [
    {
     "data": {
      "text/plain": [
       "|                                         0.155548\n",
       ".                                         0.120444\n",
       "no of =                                   0.116618\n",
       "function                                  0.102910\n",
       "number of space                           0.067630\n",
       "var                                       0.067482\n",
       "/                                         0.052586\n",
       "#                                         0.051791\n",
       ";                                         0.041715\n",
       "no of +                                   0.025307\n",
       "eval()                                    0.023498\n",
       "No. of Digite                             0.021312\n",
       "var _                                     0.019584\n",
       "no of( \\)                                 0.013231\n",
       "no of '                                   0.013227\n",
       "hexa value                                0.011019\n",
       "setTimeout()                              0.009067\n",
       "%                                         0.008101\n",
       "replace()                                 0.006334\n",
       "window.location()                         0.005819\n",
       "ActiveXObject()                           0.005790\n",
       "split()                                   0.005023\n",
       "iframe                                    0.004901\n",
       "concat()                                  0.003380\n",
       "createElement()                           0.003371\n",
       "longest string length                     0.003303\n",
       "Math.random()                             0.003224\n",
       "escape()                                  0.003188\n",
       "getCookie                                 0.003160\n",
       "onerror()                                 0.003041\n",
       "encodeURIComponent                        0.002926\n",
       "Number(fromcharcode,charcodeAt,charAt)    0.002662\n",
       "parseInt()                                0.002547\n",
       "substring()                               0.002498\n",
       "decodeURIComponent                        0.002322\n",
       "toStiring()                               0.002189\n",
       ".php                                      0.002167\n",
       "console.log()                             0.002079\n",
       "Long string                               0.001357\n",
       "dispatchEvent                             0.001100\n",
       "setAttribute()                            0.001056\n",
       "document.write()                          0.001023\n",
       ".js                                       0.000874\n",
       "onload()                                  0.000873\n",
       "attachEvent()                             0.000774\n",
       "search()                                  0.000725\n",
       "getElementById()                          0.000549\n",
       "unescap()                                 0.000503\n",
       "decode()                                  0.000173\n",
       "document.addEventListener()               0.000000\n",
       "onunload()                                0.000000\n",
       "dtype: float64"
      ]
     },
     "execution_count": 11,
     "metadata": {},
     "output_type": "execute_result"
    }
   ],
   "source": [
    "\n",
    "feature_imp = pd.Series(clf.feature_importances_,index=x_cols).sort_values(ascending=False)\n",
    "feature_imp"
   ]
  },
  {
   "cell_type": "code",
   "execution_count": 12,
   "metadata": {},
   "outputs": [
    {
     "data": {
      "image/png": "[encoded data removed]",
      "text/plain": [
       "<matplotlib.figure.Figure at 0x17065407400>"
      ]
     },
     "metadata": {
      "needs_background": "light"
     },
     "output_type": "display_data"
    }
   ],
   "source": [
    "import matplotlib.pyplot as plt\n",
    "import seaborn as sns\n",
    "%matplotlib inline\n",
    "# Creating a bar plot\n",
    "sns.barplot(x=feature_imp, y=feature_imp.index)\n",
    "# Add labels to your graph\n",
    "plt.xlabel('Feature Importance Score')\n",
    "plt.ylabel('Features')\n",
    "plt.title(\"Visualizing Important Features\")\n",
    "#plt.legend()\n",
    "F = plt.gcf()\n",
    "Size = F.get_size_inches()\n",
    "F.set_size_inches(Size[0]*2, Size[1]*2, forward=True)\n",
    "plt.show()\n",
    "# fig = plt.gcf()\n",
    "# fig.set_size_inches(18.5, 10.5)\n",
    "# fig.savefig('test3png.png', dpi=100)\n",
    "#plt.savefig('viz.png',dpi=200)"
   ]
  },
  {
   "cell_type": "code",
   "execution_count": 13,
   "metadata": {},
   "outputs": [
    {
     "name": "stdout",
     "output_type": "stream",
     "text": [
      "[0]\n",
      "[0]\n",
      "[1]\n",
      "[0]\n",
      "[1]\n",
      "[0]\n",
      "[1]\n",
      "[0]\n",
      "[1]\n",
      "[0]\n",
      "[1]\n",
      "[0]\n",
      "[1]\n",
      "[0]\n",
      "[0]\n",
      "[1]\n",
      "[0]\n",
      "[1]\n",
      "[0]\n",
      "[1]\n",
      "[0]\n",
      "[1]\n",
      "[0]\n",
      "[1]\n",
      "[0]\n",
      "[0]\n",
      "[0]\n",
      "[0]\n",
      "[1]\n",
      "[0]\n",
      "[1]\n",
      "[0]\n",
      "[0]\n",
      "[1]\n",
      "[0]\n",
      "[0]\n",
      "[0]\n",
      "[1]\n",
      "[0]\n",
      "[1]\n",
      "[0]\n",
      "[1]\n",
      "[0]\n",
      "[1]\n",
      "[0]\n",
      "[0]\n",
      "[1]\n",
      "[0]\n",
      "[1]\n",
      "[0]\n",
      "[1]\n",
      "[0]\n",
      "[0]\n",
      "[1]\n",
      "[0]\n",
      "[0]\n",
      "[1]\n",
      "[0]\n",
      "[0]\n",
      "[0]\n",
      "[0]\n",
      "[0]\n",
      "[1]\n",
      "[0]\n",
      "[0]\n",
      "[0]\n",
      "[0]\n",
      "[0]\n",
      "[1]\n",
      "[0]\n",
      "[1]\n",
      "[0]\n",
      "[0]\n",
      "[1]\n",
      "[0]\n",
      "[1]\n",
      "[0]\n",
      "[1]\n",
      "[0]\n",
      "[1]\n",
      "[0]\n",
      "[1]\n",
      "[0]\n",
      "[0]\n",
      "[1]\n",
      "[0]\n",
      "[0]\n",
      "[1]\n",
      "[0]\n",
      "[1]\n",
      "[0]\n",
      "[0]\n",
      "[0]\n",
      "[1]\n",
      "[0]\n",
      "[1]\n",
      "[0]\n",
      "[1]\n",
      "[0]\n",
      "[1]\n",
      "[0]\n",
      "[1]\n",
      "[0]\n",
      "[1]\n",
      "[0]\n",
      "[1]\n",
      "[0]\n",
      "[1]\n",
      "[0]\n",
      "[1]\n",
      "[0]\n",
      "[1]\n",
      "[0]\n",
      "[1]\n",
      "[0]\n",
      "[1]\n",
      "[0]\n",
      "[1]\n",
      "[0]\n",
      "[1]\n",
      "[0]\n",
      "[1]\n",
      "[0]\n",
      "[1]\n",
      "[0]\n",
      "[1]\n",
      "[0]\n",
      "[1]\n",
      "[0]\n",
      "[1]\n",
      "[0]\n",
      "[1]\n",
      "[0]\n",
      "[0]\n",
      "[0]\n",
      "[0]\n",
      "[0]\n",
      "[0]\n",
      "[0]\n",
      "[1]\n",
      "[0]\n",
      "[1]\n",
      "[0]\n",
      "[1]\n",
      "[0]\n",
      "[0]\n",
      "[0]\n",
      "[0]\n",
      "[1]\n",
      "[0]\n",
      "[0]\n",
      "[1]\n",
      "[0]\n",
      "[0]\n",
      "[1]\n",
      "[0]\n",
      "[1]\n",
      "[0]\n",
      "[1]\n",
      "[0]\n",
      "[1]\n",
      "[1]\n",
      "[0]\n",
      "[1]\n",
      "[0]\n",
      "[1]\n",
      "[0]\n",
      "[1]\n",
      "[0]\n",
      "[1]\n",
      "[0]\n",
      "[1]\n",
      "[0]\n",
      "[1]\n",
      "[0]\n",
      "[1]\n",
      "[0]\n",
      "[1]\n",
      "[0]\n",
      "[0]\n",
      "[1]\n",
      "[0]\n",
      "[1]\n",
      "[1]\n",
      "[0]\n",
      "[0]\n",
      "[1]\n",
      "[0]\n",
      "[1]\n",
      "[0]\n",
      "[0]\n",
      "[1]\n",
      "[0]\n",
      "[1]\n",
      "[0]\n",
      "[0]\n",
      "[1]\n",
      "[0]\n",
      "[0]\n",
      "[0]\n",
      "[1]\n",
      "[0]\n",
      "[1]\n",
      "[0]\n",
      "[1]\n",
      "[0]\n",
      "[0]\n",
      "[0]\n",
      "[1]\n",
      "[0]\n",
      "[1]\n",
      "[0]\n",
      "[1]\n",
      "[0]\n",
      "[0]\n",
      "[1]\n",
      "[0]\n",
      "[1]\n",
      "[0]\n",
      "[0]\n",
      "[1]\n",
      "[0]\n",
      "[1]\n",
      "[0]\n",
      "[0]\n",
      "[0]\n",
      "[1]\n",
      "[0]\n",
      "[0]\n",
      "[1]\n",
      "[0]\n",
      "[1]\n",
      "[0]\n",
      "[0]\n",
      "[1]\n",
      "[0]\n",
      "[0]\n",
      "[0]\n",
      "[0]\n",
      "[1]\n",
      "[0]\n",
      "[1]\n",
      "[0]\n",
      "[1]\n",
      "[0]\n",
      "[1]\n",
      "[0]\n",
      "[1]\n",
      "[0]\n"
     ]
    }
   ],
   "source": [
    "all_input=[]\n",
    "for i in range(len(df)):\n",
    "    all_input.append(df.values[i][:-1])\n",
    "    #print(df.values[i])\n",
    "temp=0\n",
    "for item in all_input:\n",
    "    print(clf.predict([item]))\n",
    "\n",
    "    "
   ]
  },
  {
   "cell_type": "code",
   "execution_count": null,
   "metadata": {},
   "outputs": [],
   "source": []
  }
 ],
 "metadata": {
  "kernelspec": {
   "display_name": "venv",
   "language": "python",
   "name": "venv"
  },
  "language_info": {
   "codemirror_mode": {
    "name": "ipython",
    "version": 3
   },
   "file_extension": ".py",
   "mimetype": "text/x-python",
   "name": "python",
   "nbconvert_exporter": "python",
   "pygments_lexer": "ipython3",
   "version": "3.6.10"
  }
 },
 "nbformat": 4,
 "nbformat_minor": 2
}
